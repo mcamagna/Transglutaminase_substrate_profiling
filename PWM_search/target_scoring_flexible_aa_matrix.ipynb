{
 "cells": [
  {
   "cell_type": "code",
   "execution_count": null,
   "metadata": {},
   "outputs": [],
   "source": [
    "# The original matrix search was written by H Nakano 20220908.\n",
    "# The since deprecated search algorithm levaraging base20 indexing was written by Soki Nakano.\n",
    "# Further performance improvements, code cleanup and flexible use of any peptide size written by Maurizio Camagna\n",
    "\n",
    "import pandas as pd\n",
    "import numpy as np\n",
    "import sys, csv, re\n",
    "\n",
    "from Bio.Seq import Seq\n",
    "from Bio import SeqIO\n",
    "from Bio.SeqRecord import SeqRecord"
   ]
  },
  {
   "cell_type": "markdown",
   "metadata": {},
   "source": [
    "## Notes:\n",
    "- The column names of the score table are arbitrary, except for the first column, which must be named **AA**\n",
    "- The order of the rows in the score table is also arbitrary, as the script will sort the file alphabetically"
   ]
  },
  {
   "cell_type": "markdown",
   "metadata": {},
   "source": [
    "# Inputs"
   ]
  },
  {
   "cell_type": "code",
   "execution_count": null,
   "metadata": {},
   "outputs": [],
   "source": [
    "score_table_file = 'Input_file.csv' #name of score table file.\n",
    "fasta_in = 'Human_proteins.fasta' # name of  multifasta file for search.\n",
    "minimum_score = 12 # specify minimum score \n",
    "csv_name = 'output.csv' # output file name\n",
    "write_only_dense_output = True"
   ]
  },
  {
   "cell_type": "markdown",
   "metadata": {},
   "source": [
    "<br><br><br><br>"
   ]
  },
  {
   "cell_type": "code",
   "execution_count": null,
   "metadata": {},
   "outputs": [],
   "source": [
    "score_table = pd.read_csv(score_table_file)\n",
    "score_table"
   ]
  },
  {
   "cell_type": "markdown",
   "metadata": {},
   "source": [
    "Let's take a look at the scoring matrix and confirm that it is correct, as well as help us choose a minimum_score"
   ]
  },
  {
   "cell_type": "code",
   "execution_count": null,
   "metadata": {
    "scrolled": true
   },
   "outputs": [],
   "source": [
    "best_peptide = \"\"\n",
    "worst_peptide = \"\"\n",
    "\n",
    "for col in score_table.columns[1:]:\n",
    "    best_peptide += score_table.iloc[np.argmax(score_table[col]), 0]\n",
    "    worst_peptide += score_table.iloc[np.argmin(score_table[col]), 0]\n",
    "\n",
    "    \n",
    "max_score = score_table.iloc[:,1:].max().sum()\n",
    "min_score = score_table.iloc[:,1:].min().sum()\n",
    "\n",
    "print(\"According to the score table, the min/max possible scores are:\")\n",
    "print(f\"Max: {max_score}\\t{best_peptide}\")\n",
    "print(f\"Min: {min_score}\\t{worst_peptide}\")"
   ]
  },
  {
   "cell_type": "code",
   "execution_count": null,
   "metadata": {
    "scrolled": true
   },
   "outputs": [],
   "source": [
    "score_table_list = score_table.sort_values(\"AA\").values.tolist()\n",
    "n = len(score_table.columns)-1 #n is the number of amino acids in the peptide"
   ]
  },
  {
   "cell_type": "code",
   "execution_count": null,
   "metadata": {},
   "outputs": [],
   "source": [
    "pep_num_list = [(\"A\", 0), (\"C\", 1), (\"D\", 2), (\"E\", 3), (\"F\", 4), (\"G\", 5), (\"H\", 6), \\\n",
    "          (\"I\", 7), (\"K\", 8), (\"L\", 9), (\"M\", 10), (\"N\", 11), (\"P\", 12), (\"Q\", 13),\\\n",
    "          (\"R\", 14), (\"S\", 15), (\"T\", 16), (\"V\", 17), (\"W\", 18), (\"Y\", 19)]\n",
    "pep_num_dict=dict(pep_num_list) "
   ]
  },
  {
   "cell_type": "code",
   "execution_count": null,
   "metadata": {},
   "outputs": [],
   "source": [
    "def pep2score(pep):\n",
    "    \"\"\"Calculates the score for a given peptide.\"\"\"\n",
    "    score = 0\n",
    "    for i, item in enumerate(pep):\n",
    "        num = pep_num_dict[item]\n",
    "        score += score_table_list[num][i+1]\n",
    "    return score"
   ]
  },
  {
   "cell_type": "code",
   "execution_count": null,
   "metadata": {},
   "outputs": [],
   "source": [
    "scores = {}\n",
    "\n",
    "out = []\n",
    "\n",
    "for record in SeqIO.parse(fasta_in, 'fasta'):\n",
    "    id_part = record.id\n",
    "    desc_part = record.description\n",
    "    seq = str(record.seq)\n",
    "    \n",
    "    for i in range (len(seq)-n+1):\n",
    "        pep = seq[i:i+n]\n",
    "        score = -1\n",
    "        \n",
    "        if pep in scores:\n",
    "            score = scores[pep]\n",
    "        else:\n",
    "            try:\n",
    "                score = pep2score(pep)\n",
    "                scores[pep] = score\n",
    "            except:\n",
    "                pass\n",
    "        if score > minimum_score:\n",
    "            seq_t = [id_part, desc_part, i+1, score, pep, seq]\n",
    "            out.append(seq_t)    \n"
   ]
  },
  {
   "cell_type": "markdown",
   "metadata": {},
   "source": [
    "Let's write the peptide result to a csv file"
   ]
  },
  {
   "cell_type": "code",
   "execution_count": null,
   "metadata": {},
   "outputs": [],
   "source": [
    "if len(out)>0:\n",
    "    out = pd.DataFrame(out)\n",
    "    out.columns = [\"id\",\"desc\",\"posi\",\"score\",\"target\",\"sequence\"]\n",
    "    out = out.set_index('id')\n",
    "    out = out.sort_values(by='score', ascending=False)\n",
    "    if not write_only_dense_output:\n",
    "        out.to_csv(csv_name)\n",
    "else:\n",
    "    print(\"No output file written: 0 hits\")"
   ]
  },
  {
   "cell_type": "markdown",
   "metadata": {},
   "source": [
    "<br>Let's also write a more compact output file (one row per protein)"
   ]
  },
  {
   "cell_type": "code",
   "execution_count": null,
   "metadata": {},
   "outputs": [],
   "source": [
    "if len(out)>0:\n",
    "    #re-assure that the output is sorted by peptide scores\n",
    "    out = out.sort_values(by='score', ascending=False)\n",
    "\n",
    "    out_list = []\n",
    "    out_list_columns = [\"id\", 'total score',\"highest individual peptide score\", 'peptide matches', 'unique peptide matches', 'sequence', 'peptides (peptide,score,count)']\n",
    "\n",
    "    #group by each protein\n",
    "    for protein_name, df in out.groupby(out.index):\n",
    "\n",
    "        protein_score = df['score'].sum() #total peptide score for this protein\n",
    "        peptide_matches = df['target'].count() #how many peptides matched\n",
    "        unique_peptide_matches = df['target'].drop_duplicates().count() #how many peptides matches (no duplicates)\n",
    "\n",
    "        highest_scoring_peptide = df['target'].iloc[0]\n",
    "        highest_peptide_score = df['score'].iloc[0]\n",
    "\n",
    "        #Let's write the protein sequence as lower case, \n",
    "        #except for positions where a peptide matches\n",
    "        seq = df['sequence'].iloc[0].lower()\n",
    "        for target in df['target']:\n",
    "            seq = re.sub(target, target, seq, flags=re.IGNORECASE)\n",
    "\n",
    "\n",
    "        peptide_dict = {}\n",
    "        peptide_counts = df.groupby('target').count().iloc[:,0].to_dict()\n",
    "\n",
    "        for peptide, score in zip(df['target'], df['score']):\n",
    "            peptide_dict[peptide] = {\"score\":score, 'count':peptide_counts[peptide]}\n",
    "\n",
    "        peptide_string = \"\"\n",
    "        for peptide, value in peptide_dict.items():\n",
    "            peptide_string+= f\"{peptide},{round(value['score'],3)},{value['count']}|\"\n",
    "        peptide_string = peptide_string[:-1]\n",
    "\n",
    "\n",
    "        out_list.append([protein_name, protein_score, highest_peptide_score, peptide_matches, unique_peptide_matches, seq, peptide_string])\n",
    "\n",
    "\n",
    "    dense_out = pd.DataFrame(out_list)\n",
    "    dense_out.columns = out_list_columns\n",
    "    dense_out = dense_out.sort_values(by='total score', ascending=False)\n",
    "    dense_out.to_csv(csv_name.replace(\".csv\", '.dense.csv'))"
   ]
  },
  {
   "cell_type": "code",
   "execution_count": null,
   "metadata": {},
   "outputs": [],
   "source": []
  },
  {
   "cell_type": "code",
   "execution_count": null,
   "metadata": {},
   "outputs": [],
   "source": []
  }
 ],
 "metadata": {
  "kernelspec": {
   "display_name": "Python 3 (ipykernel)",
   "language": "python",
   "name": "python3"
  },
  "language_info": {
   "codemirror_mode": {
    "name": "ipython",
    "version": 3
   },
   "file_extension": ".py",
   "mimetype": "text/x-python",
   "name": "python",
   "nbconvert_exporter": "python",
   "pygments_lexer": "ipython3",
   "version": "3.12.4"
  }
 },
 "nbformat": 4,
 "nbformat_minor": 4
}
